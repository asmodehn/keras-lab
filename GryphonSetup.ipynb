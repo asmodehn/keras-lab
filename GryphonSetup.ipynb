{
 "cells": [
  {
   "cell_type": "markdown",
   "metadata": {},
   "source": [
    "# Gryphon Setup\n",
    "Where we setup gryphon and make sure we can run a builtin strategy (without actually `--execute`ing)."
   ]
  },
  {
   "cell_type": "code",
   "execution_count": null,
   "metadata": {},
   "outputs": [],
   "source": [
    "!pip install gryphon\n",
    "!gryphon-runtests"
   ]
  },
  {
   "cell_type": "code",
   "execution_count": 7,
   "metadata": {},
   "outputs": [
    {
     "name": "stdout",
     "output_type": "stream",
     "text": [
      "INFO:gryphon.execution.controllers.run_migrations:Migrating the trading database\n",
      "INFO  [alembic.migration] Context impl MySQLImpl.\n",
      "INFO  [alembic.migration] Will assume non-transactional DDL.\n"
     ]
    }
   ],
   "source": [
    "!gryphon-exec run-migrations --database trading --execute"
   ]
  },
  {
   "cell_type": "markdown",
   "metadata": {},
   "source": [
    "## Running strategy without harness !\n",
    "The harness gets in the way of jupyter, so we run the gryphon builtin strategy without it"
   ]
  },
  {
   "cell_type": "code",
   "execution_count": 14,
   "metadata": {},
   "outputs": [
    {
     "name": "stdout",
     "output_type": "stream",
     "text": [
      "^C\n"
     ]
    }
   ],
   "source": [
    "gryphon_exec_out = %sx gryphon-exec strategy simple_market_making --builtin --exchange bitstamp_btc_eur"
   ]
  },
  {
   "cell_type": "code",
   "execution_count": 15,
   "metadata": {},
   "outputs": [
    {
     "ename": "ImportError",
     "evalue": "No module named base",
     "output_type": "error",
     "traceback": [
      "\u001b[0;31m---------------------------------------------------------------------------\u001b[0m",
      "\u001b[0;31mImportError\u001b[0m                               Traceback (most recent call last)",
      "\u001b[0;32m<ipython-input-15-ecb5eda298b8>\u001b[0m in \u001b[0;36m<module>\u001b[0;34m()\u001b[0m\n\u001b[0;32m----> 1\u001b[0;31m \u001b[0;32mfrom\u001b[0m \u001b[0mgryphon\u001b[0m\u001b[0;34m.\u001b[0m\u001b[0mexecution\u001b[0m\u001b[0;34m.\u001b[0m\u001b[0mstrategies\u001b[0m\u001b[0;34m.\u001b[0m\u001b[0mbase\u001b[0m \u001b[0;32mimport\u001b[0m \u001b[0mStrategy\u001b[0m\u001b[0;34m\u001b[0m\u001b[0m\n\u001b[0m\u001b[1;32m      2\u001b[0m \u001b[0;32mfrom\u001b[0m \u001b[0mgryphon\u001b[0m\u001b[0;34m.\u001b[0m\u001b[0mlib\u001b[0m \u001b[0;32mimport\u001b[0m \u001b[0marbitrage\u001b[0m \u001b[0;32mas\u001b[0m \u001b[0marb\u001b[0m\u001b[0;34m\u001b[0m\u001b[0m\n\u001b[1;32m      3\u001b[0m \u001b[0;34m\u001b[0m\u001b[0m\n\u001b[1;32m      4\u001b[0m \u001b[0;32mclass\u001b[0m \u001b[0mSuperSimpleArb\u001b[0m\u001b[0;34m(\u001b[0m\u001b[0mStrategy\u001b[0m\u001b[0;34m)\u001b[0m\u001b[0;34m:\u001b[0m\u001b[0;34m\u001b[0m\u001b[0m\n\u001b[1;32m      5\u001b[0m     \u001b[0;32mdef\u001b[0m \u001b[0mtick\u001b[0m\u001b[0;34m(\u001b[0m\u001b[0mself\u001b[0m\u001b[0;34m,\u001b[0m \u001b[0mopen_orders\u001b[0m\u001b[0;34m)\u001b[0m\u001b[0;34m:\u001b[0m\u001b[0;34m\u001b[0m\u001b[0m\n",
      "\u001b[0;31mImportError\u001b[0m: No module named base"
     ]
    }
   ],
   "source": [
    "from gryphon.execution.strategies.base import Strategy\n",
    "from gryphon.lib import arbitrage as arb\n",
    "\n",
    "class SuperSimpleArb(Strategy):\n",
    "    def tick(self, open_orders):\n",
    "        cross = arb.detect_directional_cross(\n",
    "            self.harness.gemini_btc_usd.get_orderbook(),\n",
    "            self.harness.coinbase_btc_usd.get_orderbook(),\n",
    "        )\n",
    "\n",
    "        executable_volume = arb.get_executable_volume(\n",
    "            cross,\n",
    "            self.harness.coinbase_btc_usd.get_balance(),\n",
    "            self.harness.gemini_btc_usd.get_balance(),\n",
    "        )\n",
    "\n",
    "        if cross and executable_volume:\n",
    "            self.harness.gemini_btc_usd.market_order(executable_volume, 'BID')\n",
    "            self.harness.coinbase_btc_usd.market_order(executable_volume, 'ASK')"
   ]
  },
  {
   "cell_type": "code",
   "execution_count": null,
   "metadata": {},
   "outputs": [],
   "source": []
  },
  {
   "cell_type": "code",
   "execution_count": null,
   "metadata": {},
   "outputs": [],
   "source": []
  },
  {
   "cell_type": "markdown",
   "metadata": {},
   "source": [
    "# Iterative plotting"
   ]
  },
  {
   "cell_type": "code",
   "execution_count": 4,
   "metadata": {},
   "outputs": [
    {
     "data": {
      "application/vnd.jupyter.widget-view+json": {
       "model_id": "457ad216c8584dc08a101b011b9f1358",
       "version_major": 2,
       "version_minor": 0
      },
      "text/plain": [
       "Q2FudmFzKHRvb2xiYXI9VG9vbGJhcih0b29saXRlbXM9Wyh1J0hvbWUnLCB1J1Jlc2V0IG9yaWdpbmFsIHZpZXcnLCAnaG9tZScsIHUnaG9tZScpLCAodSdCYWNrJywgdSdCYWNrIHRvICBwcmXigKY=\n"
      ]
     },
     "metadata": {},
     "output_type": "display_data"
    }
   ],
   "source": [
    "#%matplotlib notebook # NOT working in Lab\n",
    "#%matplotlib inline # NOT interactive\n",
    "%matplotlib widget\n",
    "\n",
    "import numpy as np\n",
    "import matplotlib.pyplot as plt\n",
    "import time\n",
    "\n",
    "def pltsin(ax, colors=['b']):\n",
    "    x = np.linspace(0,1,100)\n",
    "    if ax.lines:\n",
    "        for line in ax.lines:\n",
    "            line.set_xdata(x)\n",
    "            y = np.random.random(size=(100,1))\n",
    "            line.set_ydata(y)\n",
    "    else:\n",
    "        for color in colors:\n",
    "            y = np.random.random(size=(100,1))\n",
    "            ax.plot(x, y, color)\n",
    "    fig.canvas.draw()\n",
    "\n",
    "fig,ax = plt.subplots(1,1)\n",
    "ax.set_xlabel('X')\n",
    "ax.set_ylabel('Y')\n",
    "ax.set_xlim(0,1)\n",
    "ax.set_ylim(0,1)\n",
    "for f in range(5):\n",
    "    pltsin(ax, ['b', 'r'])\n",
    "    time.sleep(1)"
   ]
  },
  {
   "cell_type": "markdown",
   "metadata": {},
   "source": [
    "# Diagram drawing"
   ]
  },
  {
   "cell_type": "markdown",
   "metadata": {},
   "source": [
    "%reload_ext mermaid\n",
    "\n",
    "graph TD here[this page] --> bookmarklet(use bookmarklet) bookmarklet --> make here --> pip(pip) here --> clone pip --> installed clone(clone) --> installed clone --> fork(fork) fork --> profit((profit)) make(make diagrams) --> profit installed --> make"
   ]
  },
  {
   "cell_type": "code",
   "execution_count": null,
   "metadata": {},
   "outputs": [],
   "source": []
  }
 ],
 "metadata": {
  "kernelspec": {
   "display_name": "Python 2",
   "language": "python",
   "name": "python2"
  },
  "language_info": {
   "codemirror_mode": {
    "name": "ipython",
    "version": 2
   },
   "file_extension": ".py",
   "mimetype": "text/x-python",
   "name": "python",
   "nbconvert_exporter": "python",
   "pygments_lexer": "ipython2",
   "version": "2.7.16"
  }
 },
 "nbformat": 4,
 "nbformat_minor": 2
}
